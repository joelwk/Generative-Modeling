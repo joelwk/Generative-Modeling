{
 "cells": [
  {
   "cell_type": "code",
   "execution_count": 23,
   "metadata": {},
   "outputs": [
    {
     "name": "stdout",
     "output_type": "stream",
     "text": [
      "2.10.1\n",
      "Num GPUs Available:  1\n"
     ]
    }
   ],
   "source": [
    "import tensorflow as tf\n",
    "from tensorflow.keras.optimizers import Adam\n",
    "from tensorflow.keras.layers.experimental.preprocessing import TextVectorization\n",
    "import matplotlib.pyplot as plt\n",
    "import os\n",
    "import pandas as pd\n",
    "import logging\n",
    "from utils.fnSampling import sample_directory\n",
    "import tensorflow as tf\n",
    "import os\n",
    "import pandas as pd\n",
    "from datetime import datetime\n",
    "import logging\n",
    "\n",
    "print(tf.__version__)\n",
    "gpus = tf.config.experimental.list_physical_devices('GPU')\n",
    "print(\"Num GPUs Available: \", len(gpus))"
   ]
  },
  {
   "cell_type": "code",
   "execution_count": 1,
   "metadata": {},
   "outputs": [
    {
     "name": "stderr",
     "output_type": "stream",
     "text": [
      "INFO:root:Processed file 0623_111047.parquet. Sampled Data Size: 11103\n",
      "INFO:root:Processed file 0623_116.parquet. Sampled Data Size: 11108\n",
      "INFO:root:Processed file 0623_12314.parquet. Sampled Data Size: 12340\n",
      "INFO:root:Processed file 0623_140330.parquet. Sampled Data Size: 26378\n",
      "INFO:root:Processed file 0623_15261.parquet. Sampled Data Size: 27897\n",
      "INFO:root:Processed file 0623_2.parquet. Sampled Data Size: 27897\n",
      "INFO:root:Processed file 0623_22990.parquet. Sampled Data Size: 30196\n",
      "INFO:root:Processed file 0623_314418.parquet. Sampled Data Size: 61637\n",
      "INFO:root:Processed file 0623_32061.parquet. Sampled Data Size: 64831\n",
      "INFO:root:Processed file 0623_331340.parquet. Sampled Data Size: 97964\n",
      "INFO:root:Processed file 0623_3465360.parquet. Sampled Data Size: 444506\n",
      "INFO:root:Processed file 0623_3564068.parquet. Sampled Data Size: 800919\n",
      "INFO:root:Processed file 0623_3564186.parquet. Sampled Data Size: 1157341\n",
      "INFO:root:Processed file 0623_36175.parquet. Sampled Data Size: 1160962\n",
      "INFO:root:Processed file 0623_39844.parquet. Sampled Data Size: 1164944\n",
      "INFO:root:Processed file 0623_409240.parquet. Sampled Data Size: 1205868\n",
      "INFO:root:Processed file 0623_431670.parquet. Sampled Data Size: 1249029\n",
      "INFO:root:Processed file 0623_49628.parquet. Sampled Data Size: 1253983\n",
      "INFO:root:Processed file 0623_498170.parquet. Sampled Data Size: 1303797\n",
      "INFO:root:Processed file 0623_56016.parquet. Sampled Data Size: 1309398\n",
      "INFO:root:Processed file 0623_603.parquet. Sampled Data Size: 1309450\n",
      "INFO:root:Processed file 0623_6276.parquet. Sampled Data Size: 1310076\n",
      "INFO:root:Processed file 0623_73904.parquet. Sampled Data Size: 1317467\n",
      "INFO:root:Processed file 0623_982781.parquet. Sampled Data Size: 1415737\n",
      "INFO:root:Processed file 0723_14486.parquet. Sampled Data Size: 1417185\n",
      "INFO:root:Processed file 0723_171444.parquet. Sampled Data Size: 1434330\n",
      "INFO:root:Processed file 0723_21057.parquet. Sampled Data Size: 1436431\n",
      "INFO:root:Processed file 0723_242892.parquet. Sampled Data Size: 1460717\n",
      "INFO:root:Processed file 0723_3418238.parquet. Sampled Data Size: 1802528\n",
      "INFO:root:Processed file 0723_3494809.parquet. Sampled Data Size: 2152016\n",
      "INFO:root:Processed file 0723_359857.parquet. Sampled Data Size: 2188000\n",
      "INFO:root:Processed file 0723_36811.parquet. Sampled Data Size: 2191686\n",
      "INFO:root:Processed file 0723_37.parquet. Sampled Data Size: 2191689\n",
      "INFO:root:Processed file 0723_42439.parquet. Sampled Data Size: 2195930\n",
      "INFO:root:Processed file 0723_426267.parquet. Sampled Data Size: 2238556\n",
      "INFO:root:Processed file 0723_45502.parquet. Sampled Data Size: 2243092\n",
      "INFO:root:Processed file 0723_519406.parquet. Sampled Data Size: 2295025\n",
      "INFO:root:Processed file 0723_61065.parquet. Sampled Data Size: 2301131\n",
      "INFO:root:Processed file 0723_611428.parquet. Sampled Data Size: 2362277\n",
      "INFO:root:Processed file 0723_720456.parquet. Sampled Data Size: 2434319\n",
      "INFO:root:Processed file 0723_79263.parquet. Sampled Data Size: 2442240\n",
      "INFO:root:Processed file 0723_862855.parquet. Sampled Data Size: 2528529\n",
      "INFO:root:Processed file 0823_3243728.parquet. Sampled Data Size: 2852903\n",
      "INFO:root:Processed file 0823_3288961.parquet. Sampled Data Size: 3181791\n",
      "INFO:root:Processed file 0823_388.parquet. Sampled Data Size: 3181810\n",
      "INFO:root:Processed file 0823_470799.parquet. Sampled Data Size: 3228888\n",
      "INFO:root:Processed file 0823_47541.parquet. Sampled Data Size: 3233637\n",
      "INFO:root:Processed file 0823_48422.parquet. Sampled Data Size: 3238471\n",
      "INFO:root:Processed file 0823_516046.parquet. Sampled Data Size: 3290078\n",
      "INFO:root:Processed file 0823_522060.parquet. Sampled Data Size: 3342278\n",
      "INFO:root:Processed file 0823_52929.parquet. Sampled Data Size: 3347567\n",
      "INFO:root:Processed file 0823_54257.parquet. Sampled Data Size: 3352981\n",
      "INFO:root:Processed file 0823_574998.parquet. Sampled Data Size: 3410467\n",
      "INFO:root:Processed file 0823_89003.parquet. Sampled Data Size: 3419355\n",
      "INFO:root:Processed file 0823_912518.parquet. Sampled Data Size: 3510616\n",
      "INFO:root:Processed file 0923_13272.parquet. Sampled Data Size: 3511937\n",
      "INFO:root:Processed file 0923_16793.parquet. Sampled Data Size: 3513616\n",
      "INFO:root:Processed file 0923_182666.parquet. Sampled Data Size: 3531885\n",
      "INFO:root:Processed file 0923_265.parquet. Sampled Data Size: 3531895\n",
      "INFO:root:Processed file 0923_2946748.parquet. Sampled Data Size: 3826589\n",
      "INFO:root:Processed file 0923_3010856.parquet. Sampled Data Size: 4127677\n",
      "INFO:root:Processed file 0923_464337.parquet. Sampled Data Size: 4174111\n",
      "INFO:root:Processed file 0923_53942.parquet. Sampled Data Size: 4179471\n",
      "INFO:root:Processed file 0923_61234.parquet. Sampled Data Size: 4185597\n",
      "INFO:root:Processed file 0923_61481.parquet. Sampled Data Size: 4191744\n",
      "INFO:root:Processed file 0923_634046.parquet. Sampled Data Size: 4255155\n",
      "INFO:root:Processed file 0923_647439.parquet. Sampled Data Size: 4319898\n",
      "INFO:root:Processed file 0923_65046.parquet. Sampled Data Size: 4326400\n",
      "INFO:root:Processed file 0923_728429.parquet. Sampled Data Size: 4399240\n",
      "INFO:root:Processed file 0923_81906.parquet. Sampled Data Size: 4407427\n",
      "INFO:root:Processed file 1023_2328632.parquet. Sampled Data Size: 4640301\n",
      "INFO:root:Processed file 1023_2363472.parquet. Sampled Data Size: 4876652\n",
      "INFO:root:Processed file 1023_37798.parquet. Sampled Data Size: 4880414\n",
      "INFO:root:Processed file 1023_47825.parquet. Sampled Data Size: 4885181\n",
      "INFO:root:Processed file 1023_553439.parquet. Sampled Data Size: 4940524\n",
      "INFO:root:Processed file 1023_556773.parquet. Sampled Data Size: 4996195\n",
      "INFO:root:Processed file 1023_59815.parquet. Sampled Data Size: 5002178\n",
      "INFO:root:Processed file 1023_717516.parquet. Sampled Data Size: 5073920\n"
     ]
    }
   ],
   "source": [
    "'''Time stratified random sample of message board data that I'll use to train a generative language model, generating text that is similar to that date range of the data.'''\n",
    "from utils.fnSampling import *\n",
    "# Sample Usage\n",
    "directory = 'D:/4chan/processed/processed/batched'\n",
    "time_column = 'posted_date_time' # Startifiy on the posted date time\n",
    "freq = 'H' # Stratification frequency by hour\n",
    "sample_ratio = 0.1\n",
    "start_date = '0623' # All data from June 2023 to October 2023\n",
    "end_date = '1023'\n",
    "sampled_data = sample_data_by_prefix(directory, time_column, freq, sample_ratio, start_date, end_date)"
   ]
  },
  {
   "cell_type": "code",
   "execution_count": 3,
   "metadata": {},
   "outputs": [
    {
     "name": "stdout",
     "output_type": "stream",
     "text": [
      "Minimum date: 2023-06-01 00:00:00\n",
      "Maximum date: 2023-10-20 06:00:27\n"
     ]
    },
    {
     "data": {
      "image/png": "[encoded data removed]",
      "text/plain": [
       "<Figure size 1000x500 with 1 Axes>"
      ]
     },
     "metadata": {},
     "output_type": "display_data"
    }
   ],
   "source": [
    "from utils import fnPlots\n",
    "fnPlots.profile_date_plot(sampled_data, 'posted_date_time')"
   ]
  },
  {
   "cell_type": "code",
   "execution_count": null,
   "metadata": {},
   "outputs": [],
   "source": [
    "from utils.fnProcessing import find_dialogs, augment_dialogs\n",
    "\n",
    "'''Search for thread_ids in the text_clean column and return a dataframe that can be considered dialog or discourse between users'''\n",
    "\n",
    "thread_headers = sampled_data.dropna(subset=['text_clean','posted_comment'])[['thread_id', 'thread_header', 'posted_comment', 'text_clean', 'posted_date_time']]\n",
    "replies = find_dialogs(thread_headers)\n",
    "replies = augment_dialogs(replies, sampled_data)"
   ]
  },
  {
   "cell_type": "code",
   "execution_count": null,
   "metadata": {},
   "outputs": [],
   "source": [
    "replies.to_parquet('sampled_0623_1023_replies.parquet')"
   ]
  }
 ],
 "metadata": {
  "kernelspec": {
   "display_name": ".venv",
   "language": "python",
   "name": "python3"
  },
  "language_info": {
   "codemirror_mode": {
    "name": "ipython",
    "version": 3
   },
   "file_extension": ".py",
   "mimetype": "text/x-python",
   "name": "python",
   "nbconvert_exporter": "python",
   "pygments_lexer": "ipython3",
   "version": "3.10.13"
  }
 },
 "nbformat": 4,
 "nbformat_minor": 2
}
