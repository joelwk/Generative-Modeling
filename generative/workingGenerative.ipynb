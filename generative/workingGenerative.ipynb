{
 "cells": [
  {
   "cell_type": "code",
   "execution_count": 1,
   "metadata": {},
   "outputs": [
    {
     "name": "stdout",
     "output_type": "stream",
     "text": [
      "Epoch 1/50\n",
      "547/547 [==============================] - ETA: 0s - loss: 5.0050 - dense_6_loss: 5.0050\n",
      "Epoch 1: val_loss improved from inf to 1.33411, saving model to ./models/generative\\weights.01-1.33.ckpt\n"
     ]
    },
    {
     "name": "stderr",
     "output_type": "stream",
     "text": [
      "WARNING:absl:Found untraced functions such as embedding_layer_call_fn, embedding_layer_call_and_return_conditional_losses, embedding_1_layer_call_fn, embedding_1_layer_call_and_return_conditional_losses, multi_head_attention_layer_call_fn while saving (showing 5 of 82). These functions will not be directly callable after loading.\n"
     ]
    },
    {
     "name": "stdout",
     "output_type": "stream",
     "text": [
      "INFO:tensorflow:Assets written to: ./models/generative\\weights.01-1.33.ckpt\\assets\n"
     ]
    },
    {
     "name": "stderr",
     "output_type": "stream",
     "text": [
      "INFO:tensorflow:Assets written to: ./models/generative\\weights.01-1.33.ckpt\\assets\n"
     ]
    },
    {
     "name": "stdout",
     "output_type": "stream",
     "text": [
      "547/547 [==============================] - 67s 118ms/step - loss: 5.0050 - dense_6_loss: 5.0050 - val_loss: 1.3341 - val_dense_6_loss: 1.3341\n",
      "Epoch 2/50\n",
      "547/547 [==============================] - ETA: 0s - loss: 0.5329 - dense_6_loss: 0.5329\n",
      "Epoch 2: val_loss improved from 1.33411 to 0.23219, saving model to ./models/generative\\weights.02-0.23.ckpt\n"
     ]
    },
    {
     "name": "stderr",
     "output_type": "stream",
     "text": [
      "WARNING:absl:Found untraced functions such as embedding_layer_call_fn, embedding_layer_call_and_return_conditional_losses, embedding_1_layer_call_fn, embedding_1_layer_call_and_return_conditional_losses, multi_head_attention_layer_call_fn while saving (showing 5 of 82). These functions will not be directly callable after loading.\n"
     ]
    },
    {
     "name": "stdout",
     "output_type": "stream",
     "text": [
      "INFO:tensorflow:Assets written to: ./models/generative\\weights.02-0.23.ckpt\\assets\n"
     ]
    },
    {
     "name": "stderr",
     "output_type": "stream",
     "text": [
      "INFO:tensorflow:Assets written to: ./models/generative\\weights.02-0.23.ckpt\\assets\n"
     ]
    },
    {
     "name": "stdout",
     "output_type": "stream",
     "text": [
      "547/547 [==============================] - 61s 111ms/step - loss: 0.5329 - dense_6_loss: 0.5329 - val_loss: 0.2322 - val_dense_6_loss: 0.2322\n",
      "Epoch 3/50\n",
      "547/547 [==============================] - ETA: 0s - loss: 0.2113 - dense_6_loss: 0.2113\n",
      "Epoch 3: val_loss improved from 0.23219 to 0.20815, saving model to ./models/generative\\weights.03-0.21.ckpt\n"
     ]
    },
    {
     "name": "stderr",
     "output_type": "stream",
     "text": [
      "WARNING:absl:Found untraced functions such as embedding_layer_call_fn, embedding_layer_call_and_return_conditional_losses, embedding_1_layer_call_fn, embedding_1_layer_call_and_return_conditional_losses, multi_head_attention_layer_call_fn while saving (showing 5 of 82). These functions will not be directly callable after loading.\n"
     ]
    },
    {
     "name": "stdout",
     "output_type": "stream",
     "text": [
      "INFO:tensorflow:Assets written to: ./models/generative\\weights.03-0.21.ckpt\\assets\n"
     ]
    },
    {
     "name": "stderr",
     "output_type": "stream",
     "text": [
      "INFO:tensorflow:Assets written to: ./models/generative\\weights.03-0.21.ckpt\\assets\n"
     ]
    },
    {
     "name": "stdout",
     "output_type": "stream",
     "text": [
      "547/547 [==============================] - 63s 114ms/step - loss: 0.2113 - dense_6_loss: 0.2113 - val_loss: 0.2082 - val_dense_6_loss: 0.2082\n",
      "Epoch 4/50\n",
      "547/547 [==============================] - ETA: 0s - loss: 0.2049 - dense_6_loss: 0.2049\n",
      "Epoch 4: val_loss did not improve from 0.20815\n",
      "547/547 [==============================] - 58s 107ms/step - loss: 0.2049 - dense_6_loss: 0.2049 - val_loss: 0.2103 - val_dense_6_loss: 0.2103\n",
      "Epoch 5/50\n",
      "547/547 [==============================] - ETA: 0s - loss: 0.2043 - dense_6_loss: 0.2043\n",
      "Epoch 5: val_loss did not improve from 0.20815\n",
      "547/547 [==============================] - 60s 109ms/step - loss: 0.2043 - dense_6_loss: 0.2043 - val_loss: 0.2122 - val_dense_6_loss: 0.2122\n",
      "Epoch 6/50\n",
      "547/547 [==============================] - ETA: 0s - loss: 0.2033 - dense_6_loss: 0.2033\n",
      "Epoch 6: val_loss did not improve from 0.20815\n",
      "547/547 [==============================] - 66s 120ms/step - loss: 0.2033 - dense_6_loss: 0.2033 - val_loss: 0.2129 - val_dense_6_loss: 0.2129\n",
      "Epoch 7/50\n",
      "547/547 [==============================] - ETA: 0s - loss: 0.2017 - dense_6_loss: 0.2017\n",
      "Epoch 7: val_loss did not improve from 0.20815\n",
      "547/547 [==============================] - 63s 114ms/step - loss: 0.2017 - dense_6_loss: 0.2017 - val_loss: 0.2131 - val_dense_6_loss: 0.2131\n",
      "Epoch 8/50\n",
      "547/547 [==============================] - ETA: 0s - loss: 0.1996 - dense_6_loss: 0.1996\n",
      "Epoch 8: val_loss did not improve from 0.20815\n",
      "547/547 [==============================] - 62s 114ms/step - loss: 0.1996 - dense_6_loss: 0.1996 - val_loss: 0.2133 - val_dense_6_loss: 0.2133\n"
     ]
    }
   ],
   "source": [
    "import tensorflow as tf\n",
    "from tensorflow.keras.callbacks import EarlyStopping, ModelCheckpoint, TensorBoard\n",
    "from generative.process import main\n",
    "from generative.tnn import TransformerBlock, TokenAndPositionEmbedding\n",
    "from generative.train import train_model, TrainTextGenerator, CustomSchedule\n",
    "import pandas as pd\n",
    "import configparser\n",
    "import os\n",
    "\n",
    "# Load and process the data\n",
    "data = pd.read_parquet('./sampled_0623_1023.parquet').sample(50000)\n",
    "train_ds, val_ds, test_ds, combined_vocab = main(data)\n",
    "\n",
    "# Read config file\n",
    "config = configparser.ConfigParser()\n",
    "config.read('./generative/config.ini')\n",
    "params = config[\"params\"]\n",
    "epochs = int(params['epochs']) \n",
    "\n",
    "LOAD_MODEL = False\n",
    "MODEL_PATH = './models/generative/model_2.h5'\n",
    "\n",
    "# Load or train the model\n",
    "if LOAD_MODEL and os.path.exists(MODEL_PATH):\n",
    "    model = train_model(preload_model=True, model_path=MODEL_PATH)\n",
    "else:\n",
    "    model = train_model(preload_model=False, model_path=MODEL_PATH)\n",
    "\n",
    "def get_callbacks():\n",
    "    model_checkpoint_callback = ModelCheckpoint(\n",
    "        filepath=\"./models/generative/weights.{epoch:02d}-{val_loss:.2f}.ckpt\",\n",
    "        save_weights_only=False,\n",
    "        save_best_only=True,\n",
    "        monitor='val_loss',                                     \n",
    "        verbose=1\n",
    "    )\n",
    "    text_generator = TrainTextGenerator(index_to_word=combined_vocab)\n",
    "    early_stopping_callback = EarlyStopping(\n",
    "        monitor='val_loss',\n",
    "        patience=5,\n",
    "        restore_best_weights=True\n",
    "    )\n",
    "    return [model_checkpoint_callback, text_generator, early_stopping_callback]\n",
    "\n",
    "# Train the model\n",
    "model.fit(\n",
    "    train_ds,\n",
    "    epochs=epochs,\n",
    "    validation_data=val_ds,\n",
    "    callbacks=get_callbacks(),\n",
    ")\n",
    "model.save(MODEL_PATH)"
   ]
  },
  {
   "cell_type": "markdown",
   "metadata": {},
   "source": [
    "#### Evaluations"
   ]
  },
  {
   "cell_type": "code",
   "execution_count": 3,
   "metadata": {},
   "outputs": [],
   "source": [
    "import tensorflow as tf\n",
    "import numpy as np\n",
    "import pandas as pd\n",
    "from tensorflow.keras.models import load_model\n",
    "from tensorflow.keras.utils import custom_object_scope\n",
    "from generative.tnn import TransformerBlock, TokenAndPositionEmbedding\n",
    "from generative.evaluate import TextGenerator, CustomSchedule\n",
    "from generative.process import main\n",
    "\n",
    "# Load fresh sample (better for evaluating model performance) and use the model to generate text  \n",
    "data = pd.read_parquet('./sampled_0623_1023.parquet').sample(10000)\n",
    "train_ds, val_ds, test_ds, combined_vocab = main(data)"
   ]
  },
  {
   "cell_type": "code",
   "execution_count": null,
   "metadata": {},
   "outputs": [],
   "source": [
    "with custom_object_scope({'CustomSchedule': CustomSchedule, 'TransformerBlock': TransformerBlock, 'TokenAndPositionEmbedding': TokenAndPositionEmbedding}):\n",
    "    model_directory = './models/generative/model_2.h5'\n",
    "    gpt = load_model(model_directory)\n",
    "\n",
    "text_generator = TextGenerator(gpt, index_to_word=combined_vocab)\n",
    "# input starter text\n",
    "text_generator.generate('the', max_tokens=25, temperature=1)"
   ]
  }
 ],
 "metadata": {
  "kernelspec": {
   "display_name": "Python 3",
   "language": "python",
   "name": "python3"
  },
  "language_info": {
   "codemirror_mode": {
    "name": "ipython",
    "version": 3
   },
   "file_extension": ".py",
   "mimetype": "text/x-python",
   "name": "python",
   "nbconvert_exporter": "python",
   "pygments_lexer": "ipython3",
   "version": "3.10.13"
  }
 },
 "nbformat": 4,
 "nbformat_minor": 2
}
